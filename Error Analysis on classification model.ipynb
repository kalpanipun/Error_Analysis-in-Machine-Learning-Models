{
 "cells": [
  {
   "cell_type": "code",
   "execution_count": null,
   "id": "04f8c3d0",
   "metadata": {},
   "outputs": [],
   "source": [
    "import pandas as pd\n",
    "import numpy as np\n",
    "import matplotlib.pyplot as plt\n",
    "#from pycaret.classification import *\n",
    "import seaborn as sns\n",
    "from sklearn.model_selection import train_test_split\n",
    "from sklearn.metrics import f1_score,accuracy_score,precision_score,recall_score,auc,roc_curve,r2_score,confusion_matrix\n",
    "from sklearn.metrics import precision_recall_fscore_support as score\n",
    "from sklearn.ensemble import RandomForestClassifier\n",
    "import pickle"
   ]
  },
  {
   "cell_type": "code",
   "execution_count": null,
   "id": "870e2f1a",
   "metadata": {},
   "outputs": [],
   "source": [
    "df = pd.read_csv('WA_Fn-UseC_-Telco-Customer-Churn.csv')\n",
    "\n",
    "df_new = df.drop(columns =['customerID','TotalCharges'],axis = 1)\n",
    "\n",
    "df_2 = df_new.copy()\n",
    "\n",
    "label_encoding_columns = ['gender', 'Partner', 'Dependents', 'PaperlessBilling', 'PhoneService', 'Churn']\n",
    "for column in label_encoding_columns:\n",
    "    if column == 'gender':\n",
    "        df_2[column] = df_2[column].map({'Female': 1, 'Male': 2})\n",
    "    else: \n",
    "        df_2[column] = df_2[column].map({'Yes': 1, 'No': 0}) \n",
    "        \n",
    "\n",
    "one_hot_encoding_columns = ['MultipleLines', 'InternetService', 'OnlineSecurity', 'OnlineBackup', 'DeviceProtection', \n",
    "                            'TechSupport', 'StreamingTV',  'StreamingMovies', 'Contract', 'PaymentMethod']\n",
    "\n",
    "df_2 = pd.get_dummies(df_2, columns = one_hot_encoding_columns, drop_first = True)"
   ]
  },
  {
   "cell_type": "code",
   "execution_count": null,
   "id": "5a20deaf",
   "metadata": {},
   "outputs": [],
   "source": [
    "X = df_2.drop(columns='Churn')\n",
    "y = df_2.loc[:, 'Churn']\n",
    "\n",
    "X_train, X_test, y_train, y_test = train_test_split(X, y, test_size=0.25, random_state=40, shuffle=True, stratify = y)\n",
    "\n",
    "model = RandomForestClassifier()\n",
    "\n",
    "clf = model.fit(X_train,y_train)\n",
    "\n",
    "predictions = clf.predict(X_test)"
   ]
  },
  {
   "cell_type": "code",
   "execution_count": null,
   "id": "69ba06cb",
   "metadata": {},
   "outputs": [],
   "source": [
    "#evaluation\n",
    "precision, recall, f1, _ = score(y_test, predictions)\n",
    "\n",
    "df_kpi = pd.DataFrame( columns=['KPI Name','KPI Value (0) %','KPI Value (1) %'])\n",
    "\n",
    "df_kpi = df_kpi.append({'KPI Name': 'Precision', 'KPI Value (0) %': round(precision[0]*100,2),\n",
    "                           'KPI Value (1) %': round(precision[1]*100,2)}, ignore_index=True)\n",
    "\n",
    "df_kpi = df_kpi.append({'KPI Name': 'Recall', 'KPI Value (0) %': round(f1[0]*100,2),\n",
    "                           'KPI Value (1) %': round(recall[1]*100,2)}, ignore_index=True)\n",
    "\n",
    "df_kpi = df_kpi.append({'KPI Name': 'f1', 'KPI Value (0) %': round(f1[0]*100,2),\n",
    "                           'KPI Value (1) %': round(recall[1]*100,2)}, ignore_index=True)\n",
    "\n",
    " \n",
    "confusion_matrix1 = pd.crosstab(y_test, predictions, rownames=['Actual'], colnames=['Predicted'])\n",
    "\n",
    "sns.heatmap(confusion_matrix1, annot=True,fmt=\"d\")\n",
    "\n",
    "print(df_kpi)"
   ]
  },
  {
   "cell_type": "code",
   "execution_count": null,
   "id": "b712546f",
   "metadata": {},
   "outputs": [],
   "source": [
    "!pip install interpret-community\n",
    "!pip install raiwidgets"
   ]
  },
  {
   "cell_type": "code",
   "execution_count": null,
   "id": "1a2007f1",
   "metadata": {},
   "outputs": [],
   "source": [
    "from raiwidgets import ErrorAnalysisDashboard\n",
    "from raiwidgets import ExplanationDashboard\n",
    "from interpret_community import TabularExplainer\n",
    "from interpret_community.common.constants import ShapValuesOutput, ModelTask"
   ]
  },
  {
   "cell_type": "code",
   "execution_count": null,
   "id": "c2bfb8ec",
   "metadata": {},
   "outputs": [],
   "source": [
    "explainer = TabularExplainer(clf, \n",
    "                             initialization_examples=X_train, \n",
    "                             features=X_train.columns, \n",
    "                             classes=['0','1'], #binary classification\n",
    "                             model_task= ModelTask.Classification\n",
    "                             )\n",
    "\n",
    "global_explanation = explainer.explain_global(X_test)\n",
    "\n",
    "ErrorAnalysisDashboard(global_explanation, clf, dataset=X_test, true_y=y_test)"
   ]
  }
 ],
 "metadata": {
  "kernelspec": {
   "display_name": "Python 3",
   "language": "python",
   "name": "python3"
  },
  "language_info": {
   "codemirror_mode": {
    "name": "ipython",
    "version": 3
   },
   "file_extension": ".py",
   "mimetype": "text/x-python",
   "name": "python",
   "nbconvert_exporter": "python",
   "pygments_lexer": "ipython3",
   "version": "3.8.8"
  }
 },
 "nbformat": 4,
 "nbformat_minor": 5
}
